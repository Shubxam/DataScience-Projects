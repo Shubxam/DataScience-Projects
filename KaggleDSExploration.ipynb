{
  "nbformat": 4,
  "nbformat_minor": 0,
  "metadata": {
    "colab": {
      "name": "SIT742Task1.ipynb",
      "provenance": [],
      "collapsed_sections": []
    },
    "kernelspec": {
      "display_name": "Python 3",
      "language": "python",
      "name": "python3"
    },
    "language_info": {
      "codemirror_mode": {
        "name": "ipython",
        "version": 3
      },
      "file_extension": ".py",
      "mimetype": "text/x-python",
      "name": "python",
      "nbconvert_exporter": "python",
      "pygments_lexer": "ipython3",
      "version": "3.7.7"
    }
  },
  "cells": [
    {
      "cell_type": "markdown",
      "metadata": {
        "colab_type": "text",
        "id": "cHdQMSVzJyip"
      },
      "source": [
        "## Overview\n",
        "\n",
        "In 2017, [Kaggle](https://www.kaggle.com) (a data science community and competition platform) conducted a survey on a large range of users registered as the data scientist in their platform. The survey data are broadly covered the skill set of the data scientists, the demographic of the data scientists, the feedback of the platform and many other information. \n",
        "\n",
        "In this task, you will need to \n",
        "\n",
        "- **Part 1**: Given the following two data sets, you are required to finish some required analysis, with the exploreation data analytics skills as well as visuilization skills\n",
        "     - [MCQResponses.csv](https://github.com/tulip-lab/sit742/raw/master/Assessment/2020/data/MCQResponses.csv): Participants' answers to multiple choice questions. Each column contains the answers of one respondent to a specific question.     \n",
        "     - [ConversionRates.csv](https://github.com/tulip-lab/sit742/raw/master/Assessment/2020/data/ConversionRates.csv): Currency conversion rates to USD. \n",
        "- **Part 2**: Given the following data set, you are required to find out top keywords for hiring the data scientists. \n",
        "    - [JobPostings.csv](https://github.com/tulip-lab/sit742/raw/master/Assessment/2020/data/JobPostings.csv): Data scientists job advertising in US with job descriptions, from JobPikr.\n",
        "\n",
        "\n",
        "You will be required to complete the coding to answer the questions with a neat and clean format, and your commenting and adherence to code standards will also be considered when marking. Further information on Python standards, please visit https://www.python.org/dev/peps/pep-0008/ \n",
        "\n",
        "\n",
        "**Note**: You are not necessary to stick to the partial code provided, and you can write your own code to implement the required tasks. But you should provide sufficient comments.\n"
      ]
    },
    {
      "cell_type": "markdown",
      "metadata": {
        "colab_type": "text",
        "id": "0d3FjO8fJyir"
      },
      "source": [
        "## Part 1 - What we could know about the Data Scientists? "
      ]
    },
    {
      "cell_type": "markdown",
      "metadata": {
        "_cell_guid": "06c9b38b-000e-4b8a-95f0-65a93bb332f2",
        "_uuid": "2bfa8ca86a226c9900a67a02236a072274bc0d18",
        "colab_type": "text",
        "id": "NuDhBkqaot17"
      },
      "source": [
        "### 1.0. Libraries and data files\n",
        "<a id=\"Load data\"></a>\n",
        "***\n"
      ]
    },
    {
      "cell_type": "code",
      "metadata": {
        "colab_type": "code",
        "id": "Tzx_NMcsJyiv",
        "outputId": "3b2099fc-60fe-4298-c2c5-235eccdb828e",
        "colab": {
          "base_uri": "https://localhost:8080/",
          "height": 173
        }
      },
      "source": [
        "!pip install wget"
      ],
      "execution_count": 0,
      "outputs": [
        {
          "output_type": "stream",
          "text": [
            "Collecting wget\n",
            "  Downloading https://files.pythonhosted.org/packages/47/6a/62e288da7bcda82b935ff0c6cfe542970f04e29c756b0e147251b2fb251f/wget-3.2.zip\n",
            "Building wheels for collected packages: wget\n",
            "  Building wheel for wget (setup.py) ... \u001b[?25l\u001b[?25hdone\n",
            "  Created wheel for wget: filename=wget-3.2-cp36-none-any.whl size=9682 sha256=dd1bc972ca397d4a20c11d7bad247a2a3622e7c092aa941d46d2ff4354bac7a5\n",
            "  Stored in directory: /root/.cache/pip/wheels/40/15/30/7d8f7cea2902b4db79e3fea550d7d7b85ecb27ef992b618f3f\n",
            "Successfully built wget\n",
            "Installing collected packages: wget\n",
            "Successfully installed wget-3.2\n"
          ],
          "name": "stdout"
        }
      ]
    },
    {
      "cell_type": "code",
      "metadata": {
        "_cell_guid": "bf6d21b3-22d5-48e4-8a62-a50ef36bae42",
        "_kg_hide-input": true,
        "_kg_hide-output": false,
        "_uuid": "76567470049e7d7e878b76d72e81858f56bdbd2a",
        "colab_type": "code",
        "id": "7AVjZqvmot2A",
        "scrolled": true,
        "outputId": "dec9015f-5c7d-400e-a7ba-5413dd0e22bd",
        "colab": {
          "base_uri": "https://localhost:8080/",
          "height": 72
        }
      },
      "source": [
        "import numpy as np\n",
        "import matplotlib.pyplot as plt\n",
        "import pandas as pd\n",
        "from pandas import datetime\n",
        "import wget\n",
        "import seaborn as sns # you can use other packages such as matplotlib too\n",
        "sns.set(style='whitegrid')"
      ],
      "execution_count": 0,
      "outputs": [
        {
          "output_type": "stream",
          "text": [
            "/usr/local/lib/python3.6/dist-packages/statsmodels/tools/_testing.py:19: FutureWarning: pandas.util.testing is deprecated. Use the functions in the public API at pandas.testing instead.\n",
            "  import pandas.util.testing as tm\n"
          ],
          "name": "stderr"
        }
      ]
    },
    {
      "cell_type": "code",
      "metadata": {
        "_cell_guid": "bf6d21b3-22d5-48e4-8a62-a50ef36bae42",
        "_kg_hide-input": true,
        "_kg_hide-output": false,
        "_uuid": "76567470049e7d7e878b76d72e81858f56bdbd2a",
        "colab_type": "code",
        "scrolled": true,
        "id": "OQZtO7mGu2Pg",
        "colab": {}
      },
      "source": [
        "link_to_data = 'https://github.com/tulip-lab/sit742/raw/master/Assessment/2020/data/MCQResponses.csv'\n",
        "DataSetMCQResponses = wget.download(link_to_data)\n",
        "\n",
        "link_to_data = 'https://github.com/tulip-lab/sit742/raw/master/Assessment/2020/data/ConversionRates.csv'\n",
        "DataSetConversionRates = wget.download(link_to_data)\n",
        "\n",
        "link_to_data = 'https://github.com/tulip-lab/sit742/raw/master/Assessment/2020/data/JobPostings.csv'\n",
        "DataSetJobPostings = wget.download(link_to_data)\n"
      ],
      "execution_count": 0,
      "outputs": []
    },
    {
      "cell_type": "code",
      "metadata": {
        "id": "RAb5XVV8v5eU",
        "colab_type": "code",
        "colab": {}
      },
      "source": [
        "DataSetMCQResponses = pd.read_csv(DataSetMCQResponses)\n",
        "DataSetConversionRates = pd.read_csv(DataSetConversionRates)\n",
        "DataSetJobPostings = pd.read_csv(DataSetJobPostings)"
      ],
      "execution_count": 0,
      "outputs": []
    },
    {
      "cell_type": "markdown",
      "metadata": {
        "colab_type": "text",
        "id": "xt84oidr-jof"
      },
      "source": [
        " <div class=\"alert alert-block alert-info\">\n",
        "\n",
        "**Code**: \n",
        "    You are required to load MCQResponses.csv into dataframe df_demog, and check the data statistics and general infommation by printing its top 5 rows.\n",
        "</div>"
      ]
    },
    {
      "cell_type": "code",
      "metadata": {
        "colab_type": "code",
        "id": "Xl5VV8v4ot2N",
        "colab": {}
      },
      "source": [
        "# Your code\n",
        "\n",
        "df_demog =  DataSetMCQResponses"
      ],
      "execution_count": 0,
      "outputs": []
    },
    {
      "cell_type": "code",
      "metadata": {
        "id": "gP8d11_7ws70",
        "colab_type": "code",
        "outputId": "4315c077-7fbf-46d1-c6dc-631953508984",
        "colab": {
          "base_uri": "https://localhost:8080/",
          "height": 590
        }
      },
      "source": [
        "print(df_demog.info())\n",
        "print(df_demog.head())"
      ],
      "execution_count": 0,
      "outputs": [
        {
          "output_type": "stream",
          "text": [
            "<class 'pandas.core.frame.DataFrame'>\n",
            "RangeIndex: 4327 entries, 0 to 4326\n",
            "Data columns (total 17 columns):\n",
            " #   Column                        Non-Null Count  Dtype  \n",
            "---  ------                        --------------  -----  \n",
            " 0   GenderSelect                  4327 non-null   object \n",
            " 1   Country                       4327 non-null   object \n",
            " 2   Age                           4327 non-null   int64  \n",
            " 3   EmploymentStatus              4327 non-null   object \n",
            " 4   CodeWriter                    4327 non-null   object \n",
            " 5   CurrentJobTitleSelect         4327 non-null   object \n",
            " 6   TitleFit                      4251 non-null   object \n",
            " 7   CurrentEmployerType           4275 non-null   object \n",
            " 8   MLToolNextYearSelect          4206 non-null   object \n",
            " 9   MLMethodNextYearSelect        4170 non-null   object \n",
            " 10  LanguageRecommendationSelect  4228 non-null   object \n",
            " 11  FormalEducation               4327 non-null   object \n",
            " 12  MajorSelect                   3952 non-null   object \n",
            " 13  FirstTrainingSelect           4324 non-null   object \n",
            " 14  CompensationAmount            4327 non-null   float64\n",
            " 15  CompensationCurrency          4327 non-null   object \n",
            " 16  JobSatisfaction               4317 non-null   object \n",
            "dtypes: float64(1), int64(1), object(15)\n",
            "memory usage: 574.8+ KB\n",
            "None\n",
            "  GenderSelect        Country  ...  CompensationCurrency        JobSatisfaction\n",
            "0         Male  United States  ...                   USD  10 - Highly Satisfied\n",
            "1       Female      Australia  ...                   AUD                      7\n",
            "2         Male         Russia  ...                   RUB                      7\n",
            "3         Male          India  ...                   INR                      7\n",
            "4         Male         Taiwan  ...                   TWD                      5\n",
            "\n",
            "[5 rows x 17 columns]\n"
          ],
          "name": "stdout"
        }
      ]
    },
    {
      "cell_type": "markdown",
      "metadata": {
        "colab_type": "text",
        "id": "7gclqLjREEe7"
      },
      "source": [
        "<div class=\"alert alert-block alert-info\">\n",
        "\n",
        "**Code**: \n",
        "    Check which columns have NAs (don't remove them now), and for each of those columns, display how many records with values (namely, no NULL values)\n",
        "\n",
        "\n",
        "<div class=\"alert alert-block alert-warning\">\n",
        "    \n",
        "**Report**: \n",
        "    **1.0.A** Please include your result for this coding task into your report, with proper section title '1.0.A'.\n",
        "</div>\n",
        "    </div>\n",
        "\n",
        "\n"
      ]
    },
    {
      "cell_type": "code",
      "metadata": {
        "colab_type": "code",
        "id": "jk5oshZLot2U",
        "outputId": "21c5094f-faf2-4f7e-bfa8-02db8912b2dd",
        "colab": {
          "base_uri": "https://localhost:8080/",
          "height": 330
        }
      },
      "source": [
        "# Your Code\n",
        "df_demog.notnull().sum()\n"
      ],
      "execution_count": 0,
      "outputs": [
        {
          "output_type": "execute_result",
          "data": {
            "text/plain": [
              "GenderSelect                    4327\n",
              "Country                         4327\n",
              "Age                             4327\n",
              "EmploymentStatus                4327\n",
              "CodeWriter                      4327\n",
              "CurrentJobTitleSelect           4327\n",
              "TitleFit                        4251\n",
              "CurrentEmployerType             4275\n",
              "MLToolNextYearSelect            4206\n",
              "MLMethodNextYearSelect          4170\n",
              "LanguageRecommendationSelect    4228\n",
              "FormalEducation                 4327\n",
              "MajorSelect                     3952\n",
              "FirstTrainingSelect             4324\n",
              "CompensationAmount              4327\n",
              "CompensationCurrency            4327\n",
              "JobSatisfaction                 4317\n",
              "dtype: int64"
            ]
          },
          "metadata": {
            "tags": []
          },
          "execution_count": 7
        }
      ]
    },
    {
      "cell_type": "markdown",
      "metadata": {
        "colab_type": "text",
        "id": "MclqalahEVm-"
      },
      "source": [
        "<div class=\"alert alert-block alert-info\">\n",
        "\n",
        "**Code**: \n",
        "    Select the users whose current job title is 'Data Scientist', and store into variable df_demog_ds    \n",
        "\n",
        "<div class=\"alert alert-block alert-warning\">\n",
        "    \n",
        "**Report**: \n",
        "    **1.0.B** Please include your result of `how many Data Scientists?' into your report, with proper section title  '1.0.B'.\n",
        "</div>\n",
        "</div>\n",
        "\n",
        "\n"
      ]
    },
    {
      "cell_type": "code",
      "metadata": {
        "colab_type": "code",
        "id": "sjdZZOc8ot2g",
        "outputId": "e2d842db-88b0-4c5f-c228-677fcef5155f",
        "colab": {
          "base_uri": "https://localhost:8080/",
          "height": 278
        }
      },
      "source": [
        "# Your code\n",
        "df_demog_ds = df_demog[df_demog['CurrentJobTitleSelect'] == 'Data Scientist']\n",
        "print(len(df_demog_ds.values))\n",
        "print(df_demog_ds)\n"
      ],
      "execution_count": 0,
      "outputs": [
        {
          "output_type": "stream",
          "text": [
            "1263\n",
            "     GenderSelect         Country  ...  CompensationCurrency JobSatisfaction\n",
            "3            Male           India  ...                   INR               7\n",
            "9            Male        Colombia  ...                   COP               9\n",
            "10           Male         Germany  ...                   EUR               8\n",
            "12           Male  United Kingdom  ...                   GBP               7\n",
            "15           Male        Portugal  ...                   EUR               7\n",
            "...           ...             ...  ...                   ...             ...\n",
            "4311         Male            Iran  ...                   IRR             NaN\n",
            "4315         Male   United States  ...                   USD               7\n",
            "4321         Male          France  ...                   EUR               5\n",
            "4324         Male   United States  ...                   USD               7\n",
            "4326         Male     South Korea  ...                   USD               6\n",
            "\n",
            "[1263 rows x 17 columns]\n"
          ],
          "name": "stdout"
        }
      ]
    },
    {
      "cell_type": "markdown",
      "metadata": {
        "_cell_guid": "3e161447-2816-45ec-872f-3a20da79c042",
        "_uuid": "d6bdc03f0c63a08754efc13378661dc986d2bcb8",
        "colab_type": "text",
        "id": "iuhutBLOot5O"
      },
      "source": [
        "### 1.1. Education\n",
        "<a id=\"education\"></a>\n",
        "***\n",
        "In data scientists job, education is important. Is it reasonable to ask data scientists to have a Master's or Doctoral degree? Let's find out. \n"
      ]
    },
    {
      "cell_type": "markdown",
      "metadata": {
        "colab_type": "text",
        "id": "yHyeeZvDot5Q"
      },
      "source": [
        "<div class=\"alert alert-block alert-info\">\n",
        "\n",
        "**Code**: \n",
        "    Plot and display as text output the number and percentage of data scientist with each type of formal education. \n",
        "\n",
        "<div class=\"alert alert-block alert-warning\">\n",
        "    \n",
        "**Report**: \n",
        "    **1.1** Please include your running result of this coding task into your report, with proper section title  '1.1'.\n",
        "</div>\n",
        "</div>"
      ]
    },
    {
      "cell_type": "code",
      "metadata": {
        "colab_type": "code",
        "id": "lRXfdfvgot5S",
        "outputId": "3f8c3e22-683e-4d57-f08d-712ca91422f9",
        "colab": {
          "base_uri": "https://localhost:8080/",
          "height": 139
        }
      },
      "source": [
        "# Your code\n",
        "'''\n",
        "First We group the df by FormalEducation Column, we reset the index of series, name the column.\n",
        "We add another column percentage.\n",
        "'''\n",
        "df_ds_edu = df_demog_ds.groupby('FormalEducation')['FormalEducation'].count().reset_index(name='count')\n",
        "df_ds_edu['percentage'] = df_ds_edu['count']*100 / df_ds_edu['count'].sum()\n",
        "print(df_ds_edu)"
      ],
      "execution_count": 0,
      "outputs": [
        {
          "output_type": "stream",
          "text": [
            "                                     FormalEducation  count  percentage\n",
            "0                                  Bachelor's degree    252   19.952494\n",
            "1                                    Doctoral degree    326   25.811560\n",
            "2  I did not complete any formal education past h...      6    0.475059\n",
            "3                                    Master's degree    635   50.277118\n",
            "4                                Professional degree     25    1.979414\n",
            "5  Some college/university study without earning ...     19    1.504355\n"
          ],
          "name": "stdout"
        }
      ]
    },
    {
      "cell_type": "markdown",
      "metadata": {
        "_cell_guid": "551f7dba-71d3-4f77-8852-fce4f789d644",
        "_uuid": "31449fb18bfea68bb723b010b78dcab6c8fe5439",
        "colab_type": "text",
        "id": "K-yMEEFLot7P"
      },
      "source": [
        "### 1.2. Salary\n",
        "<a id=\"salary\"></a>\n",
        "\n",
        "Data science is considered a very well paying role, let's find out the salary information. Since all of the respondents did not come from one country, we can assume that they gave their salaries in their countries currency. We have filtered the data for you and provided exchange rates in a file called *ConversionRates.csv* which should already be imported. \n",
        "\n",
        "First of all, you need to merge the multiple choice data with the *ConversionRates.csv* by using the compensation currency and originCountry respectively. And then you will need to multiply the compensation amount with exchangeRateAUS to have the Australian dollors."
      ]
    },
    {
      "cell_type": "code",
      "metadata": {
        "colab_type": "code",
        "id": "BZaQ7vykot7U",
        "colab": {}
      },
      "source": [
        "# Your code\n",
        "df1_df2_merge = pd.merge(df_demog, DataSetConversionRates[['originCountry','exchangeRate']], left_on='CompensationCurrency', right_on='originCountry')\n",
        "df1_df2_merge['CompensationAmount'] = df1_df2_merge['CompensationAmount'] * df1_df2_merge['exchangeRate']"
      ],
      "execution_count": 0,
      "outputs": []
    },
    {
      "cell_type": "code",
      "metadata": {
        "id": "fxjP5yaub-kH",
        "colab_type": "code",
        "outputId": "79e3422e-20f5-4e6a-c703-f4f6cc5e09df",
        "colab": {
          "base_uri": "https://localhost:8080/",
          "height": 400
        }
      },
      "source": [
        "df1_df2_merge.sort_values('CompensationAmount', ascending=False).head()"
      ],
      "execution_count": 0,
      "outputs": [
        {
          "output_type": "execute_result",
          "data": {
            "text/html": [
              "<div>\n",
              "<style scoped>\n",
              "    .dataframe tbody tr th:only-of-type {\n",
              "        vertical-align: middle;\n",
              "    }\n",
              "\n",
              "    .dataframe tbody tr th {\n",
              "        vertical-align: top;\n",
              "    }\n",
              "\n",
              "    .dataframe thead th {\n",
              "        text-align: right;\n",
              "    }\n",
              "</style>\n",
              "<table border=\"1\" class=\"dataframe\">\n",
              "  <thead>\n",
              "    <tr style=\"text-align: right;\">\n",
              "      <th></th>\n",
              "      <th>GenderSelect</th>\n",
              "      <th>Country</th>\n",
              "      <th>Age</th>\n",
              "      <th>EmploymentStatus</th>\n",
              "      <th>CodeWriter</th>\n",
              "      <th>CurrentJobTitleSelect</th>\n",
              "      <th>TitleFit</th>\n",
              "      <th>CurrentEmployerType</th>\n",
              "      <th>MLToolNextYearSelect</th>\n",
              "      <th>MLMethodNextYearSelect</th>\n",
              "      <th>LanguageRecommendationSelect</th>\n",
              "      <th>FormalEducation</th>\n",
              "      <th>MajorSelect</th>\n",
              "      <th>FirstTrainingSelect</th>\n",
              "      <th>CompensationAmount</th>\n",
              "      <th>CompensationCurrency</th>\n",
              "      <th>JobSatisfaction</th>\n",
              "      <th>originCountry</th>\n",
              "      <th>exchangeRate</th>\n",
              "    </tr>\n",
              "  </thead>\n",
              "  <tbody>\n",
              "    <tr>\n",
              "      <th>276</th>\n",
              "      <td>Male</td>\n",
              "      <td>People 's Republic of China</td>\n",
              "      <td>27</td>\n",
              "      <td>Employed full-time</td>\n",
              "      <td>Yes</td>\n",
              "      <td>Software Developer/Software Engineer</td>\n",
              "      <td>Fine</td>\n",
              "      <td>Employed by a company that doesn't perform adv...</td>\n",
              "      <td>Spark / MLlib</td>\n",
              "      <td>Deep learning</td>\n",
              "      <td>Python</td>\n",
              "      <td>Bachelor's degree</td>\n",
              "      <td>Computer Science</td>\n",
              "      <td>Online courses (coursera, udemy, edx, etc.)</td>\n",
              "      <td>9999999.0</td>\n",
              "      <td>USD</td>\n",
              "      <td>7</td>\n",
              "      <td>USD</td>\n",
              "      <td>1.000000</td>\n",
              "    </tr>\n",
              "    <tr>\n",
              "      <th>1360</th>\n",
              "      <td>Male</td>\n",
              "      <td>United States</td>\n",
              "      <td>40</td>\n",
              "      <td>Employed full-time</td>\n",
              "      <td>Yes</td>\n",
              "      <td>Business Analyst</td>\n",
              "      <td>Fine</td>\n",
              "      <td>Employed by a company that performs advanced a...</td>\n",
              "      <td>Python</td>\n",
              "      <td>Bayesian Methods</td>\n",
              "      <td>Python</td>\n",
              "      <td>Master's degree</td>\n",
              "      <td>Engineering (non-computer focused)</td>\n",
              "      <td>University courses</td>\n",
              "      <td>2500000.0</td>\n",
              "      <td>USD</td>\n",
              "      <td>7</td>\n",
              "      <td>USD</td>\n",
              "      <td>1.000000</td>\n",
              "    </tr>\n",
              "    <tr>\n",
              "      <th>4293</th>\n",
              "      <td>Male</td>\n",
              "      <td>Other</td>\n",
              "      <td>31</td>\n",
              "      <td>Employed full-time</td>\n",
              "      <td>Yes</td>\n",
              "      <td>Statistician</td>\n",
              "      <td>Perfectly</td>\n",
              "      <td>Employed by a company that performs advanced a...</td>\n",
              "      <td>R</td>\n",
              "      <td>Neural Nets</td>\n",
              "      <td>R</td>\n",
              "      <td>Some college/university study without earning ...</td>\n",
              "      <td>Mathematics or statistics</td>\n",
              "      <td>Online courses (coursera, udemy, edx, etc.)</td>\n",
              "      <td>2395468.8</td>\n",
              "      <td>BSD</td>\n",
              "      <td>10 - Highly Satisfied</td>\n",
              "      <td>BSD</td>\n",
              "      <td>0.998112</td>\n",
              "    </tr>\n",
              "    <tr>\n",
              "      <th>1381</th>\n",
              "      <td>Male</td>\n",
              "      <td>United Kingdom</td>\n",
              "      <td>37</td>\n",
              "      <td>Employed full-time</td>\n",
              "      <td>Yes</td>\n",
              "      <td>Data Analyst</td>\n",
              "      <td>NaN</td>\n",
              "      <td>Employed by a company that performs advanced a...</td>\n",
              "      <td>Google Cloud Compute</td>\n",
              "      <td>Other</td>\n",
              "      <td>Python</td>\n",
              "      <td>Master's degree</td>\n",
              "      <td>Mathematics or statistics</td>\n",
              "      <td>Self-taught</td>\n",
              "      <td>2000000.0</td>\n",
              "      <td>USD</td>\n",
              "      <td>9</td>\n",
              "      <td>USD</td>\n",
              "      <td>1.000000</td>\n",
              "    </tr>\n",
              "    <tr>\n",
              "      <th>4306</th>\n",
              "      <td>A different identity</td>\n",
              "      <td>Other</td>\n",
              "      <td>25</td>\n",
              "      <td>Employed full-time</td>\n",
              "      <td>Yes</td>\n",
              "      <td>Operations Research Practitioner</td>\n",
              "      <td>Fine</td>\n",
              "      <td>Employed by college or university</td>\n",
              "      <td>Microsoft Azure Machine Learning</td>\n",
              "      <td>Social Network Analysis</td>\n",
              "      <td>Stata</td>\n",
              "      <td>Master's degree</td>\n",
              "      <td>A health science</td>\n",
              "      <td>University courses</td>\n",
              "      <td>1059875.0</td>\n",
              "      <td>ETB</td>\n",
              "      <td>10 - Highly Satisfied</td>\n",
              "      <td>ETB</td>\n",
              "      <td>0.042395</td>\n",
              "    </tr>\n",
              "  </tbody>\n",
              "</table>\n",
              "</div>"
            ],
            "text/plain": [
              "              GenderSelect  ... exchangeRate\n",
              "276                   Male  ...     1.000000\n",
              "1360                  Male  ...     1.000000\n",
              "4293                  Male  ...     0.998112\n",
              "1381                  Male  ...     1.000000\n",
              "4306  A different identity  ...     0.042395\n",
              "\n",
              "[5 rows x 19 columns]"
            ]
          },
          "metadata": {
            "tags": []
          },
          "execution_count": 11
        }
      ]
    },
    {
      "cell_type": "markdown",
      "metadata": {
        "colab_type": "text",
        "id": "6MYDXU6dot7T"
      },
      "source": [
        "<div class=\"alert alert-block alert-info\">\n",
        "\n",
        "**Code**: \n",
        "Use the codes for each country to merge the files so that you can convert the salary data to Australian Dollars (AUD). Print out the maximum and median salary in AUD. Hint: think about what data type you have.\n",
        "    \n",
        "<div class=\"alert alert-block alert-warning\">\n",
        "    \n",
        "**Report**: \n",
        "    **1.2.A** In your report's section '1.2.A', answer what is the maximum and the median salary in AUD (this is for all respondents). \n",
        "</div>\n",
        "</div>\n"
      ]
    },
    {
      "cell_type": "code",
      "metadata": {
        "colab_type": "code",
        "id": "tyMNN-r3Jyjc",
        "outputId": "1eafce02-1068-4ef2-9b7c-d8d220fe2fa9",
        "colab": {
          "base_uri": "https://localhost:8080/",
          "height": 34
        }
      },
      "source": [
        "# Your Code\n",
        " df1_df2_merge['CompensationAmount'].max()"
      ],
      "execution_count": 0,
      "outputs": [
        {
          "output_type": "execute_result",
          "data": {
            "text/plain": [
              "9999999.0"
            ]
          },
          "metadata": {
            "tags": []
          },
          "execution_count": 12
        }
      ]
    },
    {
      "cell_type": "code",
      "metadata": {
        "colab_type": "code",
        "id": "nA9JygJ2ot7v",
        "outputId": "5f53c839-3cd6-4dc0-ddc0-a3f06f554256",
        "colab": {
          "base_uri": "https://localhost:8080/",
          "height": 34
        }
      },
      "source": [
        "# Your code\n",
        "df1_df2_merge['CompensationAmount'].median()"
      ],
      "execution_count": 0,
      "outputs": [
        {
          "output_type": "execute_result",
          "data": {
            "text/plain": [
              "53944.100000000006"
            ]
          },
          "metadata": {
            "tags": []
          },
          "execution_count": 13
        }
      ]
    },
    {
      "cell_type": "markdown",
      "metadata": {
        "colab_type": "text",
        "id": "kAtIFQgxMcR9"
      },
      "source": [
        "<div class=\"alert alert-block alert-info\">\n",
        "\n",
        "**Code**: \n",
        "Plot a boxplot of the Australian respondents salary distribution. Print out the maximum and median salaries for Australian repsondnts.\n",
        "   \n",
        "<div class=\"alert alert-block alert-warning\">\n",
        "    \n",
        "**Report**: \n",
        "    **1.2.B** In your report's section '1.2.B', answer what is the maximum and median salary in AUD for Australian respondents, and also include your plotted boxplot of this coding task into your report. \n",
        "</div>\n",
        "</div>\n"
      ]
    },
    {
      "cell_type": "code",
      "metadata": {
        "colab_type": "code",
        "id": "44a4HBqvMb_N",
        "outputId": "003718f0-7a3a-4d94-9e50-dcb88f16533c",
        "colab": {
          "base_uri": "https://localhost:8080/",
          "height": 301
        }
      },
      "source": [
        "plt.title('Boxplot of salary on Australia')\n",
        "# Your code\n",
        "df_ds_aus = df1_df2_merge[df1_df2_merge['Country'] == 'Australia']\n",
        "df_ds_aus.boxplot(column=['CompensationAmount'])"
      ],
      "execution_count": 0,
      "outputs": [
        {
          "output_type": "execute_result",
          "data": {
            "text/plain": [
              "<matplotlib.axes._subplots.AxesSubplot at 0x7f26b2315828>"
            ]
          },
          "metadata": {
            "tags": []
          },
          "execution_count": 14
        },
        {
          "output_type": "display_data",
          "data": {
            "image/png": "[encoded data removed]",
            "text/plain": [
              "<Figure size 432x288 with 1 Axes>"
            ]
          },
          "metadata": {
            "tags": []
          }
        }
      ]
    },
    {
      "cell_type": "code",
      "metadata": {
        "colab_type": "code",
        "id": "RZDQMRRfMbSl",
        "outputId": "cb40d4af-2223-4847-f792-914bc5b8fef4",
        "colab": {
          "base_uri": "https://localhost:8080/",
          "height": 52
        }
      },
      "source": [
        "# Your code\n",
        "print(df_ds_aus['CompensationAmount'].max())\n",
        "print(df_ds_aus['CompensationAmount'].median())"
      ],
      "execution_count": 0,
      "outputs": [
        {
          "output_type": "stream",
          "text": [
            "400000.0\n",
            "93469.115\n"
          ],
          "name": "stdout"
        }
      ]
    },
    {
      "cell_type": "markdown",
      "metadata": {
        "colab_type": "text",
        "id": "b5TQQt_1LSG2"
      },
      "source": [
        "<div class=\"alert alert-block alert-info\">\n",
        "\n",
        "**Code**: \n",
        "There are some outliers in the Australian salary plot. You are required to filter the salary of Australian respondents by removing any below 40,000 or above 250,000. \n",
        "\n",
        "    \n",
        "<div class=\"alert alert-block alert-warning\">\n",
        "    \n",
        "**Report**: \n",
        "    **1.2.C** In your report's section '1.2.C', answer what is the new maximum and median salary in AUD for Australian respondents after filtering, and also include your plotted boxplot of this coding task into your report. \n",
        "</div>\n",
        "</div>\n"
      ]
    },
    {
      "cell_type": "code",
      "metadata": {
        "colab_type": "code",
        "id": "2OCbrDb9MUdb",
        "colab": {}
      },
      "source": [
        "# your code\n",
        "aus_sal_no_outlier_df = df_ds_aus[(df_ds_aus['CompensationAmount'] >= 40000) & (df_ds_aus['CompensationAmount'] <= 250000)]"
      ],
      "execution_count": 0,
      "outputs": []
    },
    {
      "cell_type": "code",
      "metadata": {
        "colab_type": "code",
        "id": "iDkjx7H1NhAj",
        "outputId": "d7b2a7ad-0e72-4dbf-db8b-bd296c8bbc3f",
        "colab": {
          "base_uri": "https://localhost:8080/",
          "height": 319
        }
      },
      "source": [
        "plt.title('Boxplot of filtered salary on Australia')\n",
        "aus_sal_no_outlier_df.boxplot(column=['CompensationAmount'])\n",
        "# Your code\n",
        "print(aus_sal_no_outlier_df['CompensationAmount'].max())\n",
        "print(aus_sal_no_outlier_df['CompensationAmount'].median())"
      ],
      "execution_count": 0,
      "outputs": [
        {
          "output_type": "stream",
          "text": [
            "248716.10000000003\n",
            "96277.20000000001\n"
          ],
          "name": "stdout"
        },
        {
          "output_type": "display_data",
          "data": {
            "image/png": "[encoded data removed]",
            "text/plain": [
              "<Figure size 432x288 with 1 Axes>"
            ]
          },
          "metadata": {
            "tags": []
          }
        }
      ]
    },
    {
      "cell_type": "markdown",
      "metadata": {
        "_cell_guid": "06c9b38b-000e-4b8a-95f0-65a93bb332f2",
        "_uuid": "2bfa8ca86a226c9900a67a02236a072274bc0d18",
        "colab_type": "text",
        "id": "WL_oOonnot2l"
      },
      "source": [
        "### 1.3. Exploring the data scientist Demographics\n",
        "<a id=\"demographics\"></a>\n",
        "***\n",
        "\n",
        "#### 1.3.1 Age\n",
        "<a id=\"age\"></a>\n",
        "You will need to build a boxplot to explore the age of all data scientists. \n",
        "Your plot must have a label for each axis, a tittle and also show the outliers."
      ]
    },
    {
      "cell_type": "code",
      "metadata": {
        "colab_type": "code",
        "id": "3qi9JyJHot2o",
        "outputId": "f8b48766-084b-40ab-e1f8-9d2db571c1e3",
        "colab": {
          "base_uri": "https://localhost:8080/",
          "height": 301
        }
      },
      "source": [
        "plt.title('Boxplot of Age')\n",
        "plt.boxplot(df_demog_ds['Age'], vert=False, sym='b+')\n",
        "plt.xlabel('Age of Data Scientists')\n",
        "plt.show()\n",
        "# ax = sns.boxplot(x=df_demog_ds[\"Age\"])"
      ],
      "execution_count": 0,
      "outputs": [
        {
          "output_type": "display_data",
          "data": {
            "image/png": "[encoded data removed]",
            "text/plain": [
              "<Figure size 432x288 with 1 Axes>"
            ]
          },
          "metadata": {
            "tags": []
          }
        }
      ]
    },
    {
      "cell_type": "markdown",
      "metadata": {
        "colab_type": "text",
        "id": "sQEUpSEOot2u"
      },
      "source": [
        "<div class=\"alert alert-block alert-info\">\n",
        "\n",
        "**Code**: \n",
        "        <ol>\n",
        "        <li> Calculate the five number summary descriptive statistics for age as shown on the boxplot, as well as the mean. Please round your mean to integer.</li>\n",
        "        <li> Regardless of the errors that the data show, we are interested in working-age data scientists, how many aged between 24 and 60. </li>\n",
        "        <li> How many respondents were under 18?</li>\n",
        "    </ol>\n",
        "    \n",
        "\n",
        "    \n",
        "<div class=\"alert alert-block alert-warning\">\n",
        "    \n",
        "**Report**: \n",
        "    **1.3.A** In your report's section '1.3.A', answer \n",
        "        <ol>\n",
        "        <li> What is the mean age of all data scientists? </li>\n",
        "        <li> What is the median age of all data scientists? </li>\n",
        "        <li> how many data scientists aged between 24 and 60</li>\n",
        "        <li> how many respondents were under 18? </li>\n",
        "    </ol>\n",
        "</div>\n",
        "</div>\n",
        "\n",
        "\n",
        "\n",
        "\n",
        "\n"
      ]
    },
    {
      "cell_type": "code",
      "metadata": {
        "colab_type": "code",
        "id": "NYdZjpklot2w",
        "outputId": "69f82f64-9913-48ae-e646-da5380e45b1b",
        "colab": {
          "base_uri": "https://localhost:8080/",
          "height": 173
        }
      },
      "source": [
        "# Your code\n",
        "df_demog_ds['Age'].describe()"
      ],
      "execution_count": 0,
      "outputs": [
        {
          "output_type": "execute_result",
          "data": {
            "text/plain": [
              "count    1263.000000\n",
              "mean       33.720507\n",
              "std         8.860530\n",
              "min        16.000000\n",
              "25%        27.000000\n",
              "50%        32.000000\n",
              "75%        37.500000\n",
              "max        75.000000\n",
              "Name: Age, dtype: float64"
            ]
          },
          "metadata": {
            "tags": []
          },
          "execution_count": 20
        }
      ]
    },
    {
      "cell_type": "code",
      "metadata": {
        "colab_type": "code",
        "id": "ngjxIviIot21",
        "outputId": "4d75a597-4b63-4a5a-b320-dedc5268338a",
        "colab": {
          "base_uri": "https://localhost:8080/",
          "height": 34
        }
      },
      "source": [
        "# Your code\n",
        "round(df_demog_ds.Age.mean())\n"
      ],
      "execution_count": 0,
      "outputs": [
        {
          "output_type": "execute_result",
          "data": {
            "text/plain": [
              "34"
            ]
          },
          "metadata": {
            "tags": []
          },
          "execution_count": 21
        }
      ]
    },
    {
      "cell_type": "code",
      "metadata": {
        "colab_type": "code",
        "id": "bW7mnijvJyj1",
        "outputId": "8967644c-f02d-4b5d-97b7-63576473faed",
        "colab": {
          "base_uri": "https://localhost:8080/",
          "height": 34
        }
      },
      "source": [
        "# Your code\n",
        "df_demog_ds.Age.median()\n"
      ],
      "execution_count": 0,
      "outputs": [
        {
          "output_type": "execute_result",
          "data": {
            "text/plain": [
              "32.0"
            ]
          },
          "metadata": {
            "tags": []
          },
          "execution_count": 22
        }
      ]
    },
    {
      "cell_type": "code",
      "metadata": {
        "colab_type": "code",
        "id": "RxcGZ97Uot3M",
        "outputId": "e51c91bc-59c1-45a0-83d2-22fb98923c3c",
        "colab": {
          "base_uri": "https://localhost:8080/",
          "height": 34
        }
      },
      "source": [
        "# Your code: How many data scientsits aged between 24 and 60\n",
        "len(df_demog_ds[(df_demog_ds['Age'] >= 24) & (df_demog_ds['Age'] <= 60)].index)\n"
      ],
      "execution_count": 0,
      "outputs": [
        {
          "output_type": "execute_result",
          "data": {
            "text/plain": [
              "1188"
            ]
          },
          "metadata": {
            "tags": []
          },
          "execution_count": 23
        }
      ]
    },
    {
      "cell_type": "code",
      "metadata": {
        "colab_type": "code",
        "id": "3fehgZuEJyj8",
        "outputId": "2c41db47-5616-4542-cc02-21604c7be538",
        "colab": {
          "base_uri": "https://localhost:8080/",
          "height": 34
        }
      },
      "source": [
        "# Your Code: how many respondents under 18?\n",
        "len(df_demog_ds[df_demog_ds['Age'] < 18].index)"
      ],
      "execution_count": 0,
      "outputs": [
        {
          "output_type": "execute_result",
          "data": {
            "text/plain": [
              "1"
            ]
          },
          "metadata": {
            "tags": []
          },
          "execution_count": 24
        }
      ]
    },
    {
      "cell_type": "markdown",
      "metadata": {
        "colab_type": "text",
        "id": "c-al5HYdot3W"
      },
      "source": [
        "#### 1.3.2 Gender\n",
        "<a id=\"gender\"></a>\n",
        "We are interested in the gender of respondents. Nowadays, the gender equity is important for companies and organizations. \n"
      ]
    },
    {
      "cell_type": "markdown",
      "metadata": {
        "_cell_guid": "4b0c5cbc-a703-4b39-95bd-510f07ece6c0",
        "_uuid": "214cae932a19a586e341914443aa89e62009e6c4",
        "colab_type": "text",
        "id": "aVdtFL5wot3Y"
      },
      "source": [
        "<div class=\"alert alert-block alert-info\">\n",
        "\n",
        "**Code**: \n",
        "Plot the gender distribution of the data scientist users using a bar chart. \n",
        "</div>\n"
      ]
    },
    {
      "cell_type": "code",
      "metadata": {
        "colab_type": "code",
        "id": "OcKUWzqqot3Z",
        "outputId": "59d92ef9-b2e6-4384-9620-3241833b7877",
        "colab": {
          "base_uri": "https://localhost:8080/",
          "height": 371
        }
      },
      "source": [
        "plt.title(\"Bar chat of Gender\")\n",
        "\n",
        "# Your code\n",
        "df_gender_ds = df_demog_ds.groupby('GenderSelect')[['GenderSelect']].count()\n",
        "print(df_gender_ds)\n",
        "plt.bar(df_gender_ds.index, df_gender_ds.iloc[:,0])\n",
        "plt.show()"
      ],
      "execution_count": 0,
      "outputs": [
        {
          "output_type": "stream",
          "text": [
            "                      GenderSelect\n",
            "GenderSelect                      \n",
            "A different identity             6\n",
            "Female                         168\n",
            "Male                          1089\n"
          ],
          "name": "stdout"
        },
        {
          "output_type": "display_data",
          "data": {
            "image/png": "[encoded data removed]",
            "text/plain": [
              "<Figure size 432x288 with 1 Axes>"
            ]
          },
          "metadata": {
            "tags": []
          }
        }
      ]
    },
    {
      "cell_type": "markdown",
      "metadata": {
        "id": "2sOF1OrZu2Q8",
        "colab_type": "text"
      },
      "source": [
        "Now let's see if any relationship between gender and age\n",
        "\n",
        "Create a box plot showing the age of all the data scientists according to gender (men, women and other identity)."
      ]
    },
    {
      "cell_type": "code",
      "metadata": {
        "colab_type": "code",
        "id": "fLPvkJt2ot30",
        "outputId": "7608c401-2c7f-4337-f3e5-b237d5f632c4",
        "colab": {
          "base_uri": "https://localhost:8080/",
          "height": 323
        }
      },
      "source": [
        "\n",
        "\n",
        "# Your code here\n",
        "df_demog_ds.boxplot(column='Age', by='GenderSelect')"
      ],
      "execution_count": 0,
      "outputs": [
        {
          "output_type": "execute_result",
          "data": {
            "text/plain": [
              "<matplotlib.axes._subplots.AxesSubplot at 0x7f26b0b73160>"
            ]
          },
          "metadata": {
            "tags": []
          },
          "execution_count": 26
        },
        {
          "output_type": "display_data",
          "data": {
            "image/png": "[encoded data removed]",
            "text/plain": [
              "<Figure size 432x288 with 1 Axes>"
            ]
          },
          "metadata": {
            "tags": []
          }
        }
      ]
    },
    {
      "cell_type": "markdown",
      "metadata": {
        "colab_type": "text",
        "id": "MQb_Obrpot3e"
      },
      "source": [
        "<div class=\"alert alert-block alert-info\">\n",
        "\n",
        "**Code**: \n",
        "You are required to use the barchart to show the percentage of men, women and other identity.\n",
        "    \n",
        "    \n",
        "<div class=\"alert alert-block alert-warning\">\n",
        "    \n",
        "**Report**: \n",
        "    **1.3.B** In your report's section '1.3.B', include the bar chart generated from your code.\n",
        "</div>\n",
        "</div>"
      ]
    },
    {
      "cell_type": "code",
      "metadata": {
        "colab_type": "code",
        "id": "H0tU0cJLot3h",
        "outputId": "3cbd3bc3-9e87-4a10-fb6b-010bbb4ea1dd",
        "colab": {
          "base_uri": "https://localhost:8080/",
          "height": 518
        }
      },
      "source": [
        "plt.figure(figsize=(12,8))\n",
        "plt.title('Distribution of Gender')\n",
        "plt.xlabel('Gender Select')\n",
        "plt.ylabel('Percentage [%]')\n",
        "\n",
        "# Your code\n",
        "df_gender_ds['Percentage'] = df_gender_ds['GenderSelect']*100 / df_gender_ds['GenderSelect'].sum()\n",
        "plt.bar(df_gender_ds.index, df_gender_ds['Percentage'])\n",
        "plt.show()"
      ],
      "execution_count": 0,
      "outputs": [
        {
          "output_type": "display_data",
          "data": {
            "image/png": "[encoded data removed]",
            "text/plain": [
              "<Figure size 864x576 with 1 Axes>"
            ]
          },
          "metadata": {
            "tags": []
          }
        }
      ]
    },
    {
      "cell_type": "markdown",
      "metadata": {
        "colab_type": "text",
        "id": "ohxh7aPWot4G"
      },
      "source": [
        "#### 1.3.3 Country\n",
        "<a id=\"country\"></a>\n",
        "The data scientists are working all over the world. The United States is regarded the largest data science community. India, China and some other countries are also having a fast growing recently. Is this true? Let's find out."
      ]
    },
    {
      "cell_type": "markdown",
      "metadata": {
        "colab_type": "text",
        "id": "gcW1HPZlot4J"
      },
      "source": [
        "<div class=\"alert alert-block alert-info\">\n",
        "\n",
        "**Code**: \n",
        "Find the top 5 countries of data scientists.\n",
        "    \n",
        "<div class=\"alert alert-block alert-warning\">\n",
        "    \n",
        "**Report**: \n",
        "    **1.3.C** In your report's section '1.3.C', answer what are those top 5 countries and their corresponding number of data scienists\n",
        "</div>\n",
        "</div>"
      ]
    },
    {
      "cell_type": "code",
      "metadata": {
        "colab_type": "code",
        "id": "e14ly826ot4L",
        "outputId": "e517b445-b914-4d41-d0d4-51a5d088d3c7",
        "colab": {
          "base_uri": "https://localhost:8080/",
          "height": 206
        }
      },
      "source": [
        "# Your Code: create and fill value into df_country\n",
        "df_country =  df_demog_ds.groupby('Country')['Country'].size().reset_index(name='Count').sort_values('Count', ascending=False)\n",
        "df_country.head(5)"
      ],
      "execution_count": 0,
      "outputs": [
        {
          "output_type": "execute_result",
          "data": {
            "text/html": [
              "<div>\n",
              "<style scoped>\n",
              "    .dataframe tbody tr th:only-of-type {\n",
              "        vertical-align: middle;\n",
              "    }\n",
              "\n",
              "    .dataframe tbody tr th {\n",
              "        vertical-align: top;\n",
              "    }\n",
              "\n",
              "    .dataframe thead th {\n",
              "        text-align: right;\n",
              "    }\n",
              "</style>\n",
              "<table border=\"1\" class=\"dataframe\">\n",
              "  <thead>\n",
              "    <tr style=\"text-align: right;\">\n",
              "      <th></th>\n",
              "      <th>Country</th>\n",
              "      <th>Count</th>\n",
              "    </tr>\n",
              "  </thead>\n",
              "  <tbody>\n",
              "    <tr>\n",
              "      <th>50</th>\n",
              "      <td>United States</td>\n",
              "      <td>414</td>\n",
              "    </tr>\n",
              "    <tr>\n",
              "      <th>17</th>\n",
              "      <td>India</td>\n",
              "      <td>111</td>\n",
              "    </tr>\n",
              "    <tr>\n",
              "      <th>12</th>\n",
              "      <td>France</td>\n",
              "      <td>60</td>\n",
              "    </tr>\n",
              "    <tr>\n",
              "      <th>49</th>\n",
              "      <td>United Kingdom</td>\n",
              "      <td>55</td>\n",
              "    </tr>\n",
              "    <tr>\n",
              "      <th>13</th>\n",
              "      <td>Germany</td>\n",
              "      <td>50</td>\n",
              "    </tr>\n",
              "  </tbody>\n",
              "</table>\n",
              "</div>"
            ],
            "text/plain": [
              "           Country  Count\n",
              "50   United States    414\n",
              "17           India    111\n",
              "12          France     60\n",
              "49  United Kingdom     55\n",
              "13         Germany     50"
            ]
          },
          "metadata": {
            "tags": []
          },
          "execution_count": 28
        }
      ]
    },
    {
      "cell_type": "code",
      "metadata": {
        "_cell_guid": "f3da614f-96e2-45d1-ba78-9d08a58fa136",
        "_kg_hide-input": true,
        "_uuid": "34afcf67184929a6de8358a13a961d0b9ad25b6c",
        "colab_type": "code",
        "id": "4NfzLajkot4X",
        "outputId": "bb14b7e9-9977-4388-8d8f-62f0631fbdbd",
        "colab": {
          "base_uri": "https://localhost:8080/",
          "height": 285
        }
      },
      "source": [
        "# Show only one suitable plot of country: either Bar plot, count plot, or Boxplot (possible or not?)\n",
        "plt.bar(df_country.Country, df_country.Count)"
      ],
      "execution_count": 0,
      "outputs": [
        {
          "output_type": "execute_result",
          "data": {
            "text/plain": [
              "<BarContainer object of 52 artists>"
            ]
          },
          "metadata": {
            "tags": []
          },
          "execution_count": 29
        },
        {
          "output_type": "display_data",
          "data": {
            "image/png": "[encoded data removed]",
            "text/plain": [
              "<Figure size 432x288 with 1 Axes>"
            ]
          },
          "metadata": {
            "tags": []
          }
        }
      ]
    },
    {
      "cell_type": "markdown",
      "metadata": {
        "colab_type": "text",
        "id": "t8LLns9IJykS"
      },
      "source": [
        "<div class=\"alert alert-block alert-info\">\n",
        "\n",
        "**Code**: \n",
        "Generate the distribution of top 5 countries of data scientists, using percentage barchart. You can not mannually input the name of top 5 countries (your code should not contain any name of the top 5 countries), and you are required to use python subset functions or many other functions.\n",
        "    \n",
        "<div class=\"alert alert-block alert-warning\">\n",
        "    \n",
        "**Report**: \n",
        "    **1.3.D** In your report's section '1.3.D', including the percentage barchart of those top 5 countries. Here the percentage is calculated based on all countries, not for those top 5 countries. So the sum of top 5 countries' percentage should be less than 1.\n",
        "</div>\n",
        "</div>"
      ]
    },
    {
      "cell_type": "code",
      "metadata": {
        "colab_type": "code",
        "id": "M1g1CA3_ot4l",
        "outputId": "861d0eb0-88fb-47b5-8969-d42c686143e6",
        "colab": {
          "base_uri": "https://localhost:8080/",
          "height": 640
        }
      },
      "source": [
        "#percentage\n",
        "plt.figure(figsize=(12,8))\n",
        "plt.title('Distribution of Top 5 country with data scientist count')\n",
        "plt.xlabel('Country')\n",
        "plt.ylabel('Percentage [%]')\n",
        "\n",
        "\n",
        "#Your Code: create and fill values into df_country_top5\n",
        "df_country_top5 = df_country.iloc[0:5,:]\n",
        "df_country_top5['Percentage'] = df_country_top5['Count']*100 / df_country['Count'].sum()\n",
        "plt.bar(df_country_top5.Country, df_country_top5.Percentage)\n",
        "plt.plot()"
      ],
      "execution_count": 0,
      "outputs": [
        {
          "output_type": "stream",
          "text": [
            "/usr/local/lib/python3.6/dist-packages/ipykernel_launcher.py:9: SettingWithCopyWarning: \n",
            "A value is trying to be set on a copy of a slice from a DataFrame.\n",
            "Try using .loc[row_indexer,col_indexer] = value instead\n",
            "\n",
            "See the caveats in the documentation: https://pandas.pydata.org/pandas-docs/stable/user_guide/indexing.html#returning-a-view-versus-a-copy\n",
            "  if __name__ == '__main__':\n"
          ],
          "name": "stderr"
        },
        {
          "output_type": "execute_result",
          "data": {
            "text/plain": [
              "[]"
            ]
          },
          "metadata": {
            "tags": []
          },
          "execution_count": 30
        },
        {
          "output_type": "display_data",
          "data": {
            "image/png": "[encoded data removed]",
            "text/plain": [
              "<Figure size 864x576 with 1 Axes>"
            ]
          },
          "metadata": {
            "tags": []
          }
        }
      ]
    },
    {
      "cell_type": "markdown",
      "metadata": {
        "colab_type": "text",
        "id": "rQNCS52Aot40"
      },
      "source": [
        "Now we have some understanding about the country, let's see if there is any relationship between country, age and gender.\n",
        "\n",
        "<div class=\"alert alert-block alert-info\">\n",
        "\n",
        "**Code**: \n",
        "You are required to output the mean and median age for each gender for the United States, India, Australia, Pakistan\n",
        "\n",
        "\n",
        "<div class=\"alert alert-block alert-warning\">\n",
        "    \n",
        "**Report**: \n",
        "    **1.3.E** In your report's section '1.3.E', including the results of above coding task.\n",
        "</div>\n",
        "</div>\n",
        "\n",
        "\n"
      ]
    },
    {
      "cell_type": "code",
      "metadata": {
        "colab_type": "code",
        "id": "C8x3hi3xot45",
        "outputId": "7a1e13fe-b31d-4b0f-9e7f-800d84f3603e",
        "colab": {
          "base_uri": "https://localhost:8080/",
          "height": 332
        }
      },
      "source": [
        "# Your Code\n",
        "df_country_selected = df_demog_ds[df_demog_ds['Country'].isin(['United States', 'India', 'Australia', 'Pakistan'])]\n",
        "df_country_selected.groupby(['Country', 'GenderSelect'])['Age'].agg([np.mean, np.median])"
      ],
      "execution_count": 0,
      "outputs": [
        {
          "output_type": "execute_result",
          "data": {
            "text/html": [
              "<div>\n",
              "<style scoped>\n",
              "    .dataframe tbody tr th:only-of-type {\n",
              "        vertical-align: middle;\n",
              "    }\n",
              "\n",
              "    .dataframe tbody tr th {\n",
              "        vertical-align: top;\n",
              "    }\n",
              "\n",
              "    .dataframe thead th {\n",
              "        text-align: right;\n",
              "    }\n",
              "</style>\n",
              "<table border=\"1\" class=\"dataframe\">\n",
              "  <thead>\n",
              "    <tr style=\"text-align: right;\">\n",
              "      <th></th>\n",
              "      <th></th>\n",
              "      <th>mean</th>\n",
              "      <th>median</th>\n",
              "    </tr>\n",
              "    <tr>\n",
              "      <th>Country</th>\n",
              "      <th>GenderSelect</th>\n",
              "      <th></th>\n",
              "      <th></th>\n",
              "    </tr>\n",
              "  </thead>\n",
              "  <tbody>\n",
              "    <tr>\n",
              "      <th rowspan=\"2\" valign=\"top\">Australia</th>\n",
              "      <th>Female</th>\n",
              "      <td>32.600000</td>\n",
              "      <td>31</td>\n",
              "    </tr>\n",
              "    <tr>\n",
              "      <th>Male</th>\n",
              "      <td>35.000000</td>\n",
              "      <td>34</td>\n",
              "    </tr>\n",
              "    <tr>\n",
              "      <th rowspan=\"2\" valign=\"top\">India</th>\n",
              "      <th>Female</th>\n",
              "      <td>29.000000</td>\n",
              "      <td>27</td>\n",
              "    </tr>\n",
              "    <tr>\n",
              "      <th>Male</th>\n",
              "      <td>30.019802</td>\n",
              "      <td>28</td>\n",
              "    </tr>\n",
              "    <tr>\n",
              "      <th>Pakistan</th>\n",
              "      <th>Male</th>\n",
              "      <td>32.000000</td>\n",
              "      <td>27</td>\n",
              "    </tr>\n",
              "    <tr>\n",
              "      <th rowspan=\"3\" valign=\"top\">United States</th>\n",
              "      <th>A different identity</th>\n",
              "      <td>31.000000</td>\n",
              "      <td>31</td>\n",
              "    </tr>\n",
              "    <tr>\n",
              "      <th>Female</th>\n",
              "      <td>33.436620</td>\n",
              "      <td>31</td>\n",
              "    </tr>\n",
              "    <tr>\n",
              "      <th>Male</th>\n",
              "      <td>35.649123</td>\n",
              "      <td>33</td>\n",
              "    </tr>\n",
              "  </tbody>\n",
              "</table>\n",
              "</div>"
            ],
            "text/plain": [
              "                                         mean  median\n",
              "Country       GenderSelect                           \n",
              "Australia     Female                32.600000      31\n",
              "              Male                  35.000000      34\n",
              "India         Female                29.000000      27\n",
              "              Male                  30.019802      28\n",
              "Pakistan      Male                  32.000000      27\n",
              "United States A different identity  31.000000      31\n",
              "              Female                33.436620      31\n",
              "              Male                  35.649123      33"
            ]
          },
          "metadata": {
            "tags": []
          },
          "execution_count": 31
        }
      ]
    },
    {
      "cell_type": "markdown",
      "metadata": {
        "colab_type": "text",
        "id": "gYQNiE5Cot-I"
      },
      "source": [
        "## Part 2 - Data Science Job Advertising Data\n",
        "\n",
        "In this part, you are required to use the text processing skills to find out the insights in data science job adverising Data."
      ]
    },
    {
      "cell_type": "markdown",
      "metadata": {
        "colab_type": "text",
        "id": "LQmiP5-_Nc3b"
      },
      "source": [
        "### 2.1. Load the data and Extract the high frequency words\n",
        "<a id=\"text\"></a>\n",
        "\n",
        "Firstly, you will need to load the [JobPostings.csv](https://github.com/tulip-lab/sit742/raw/master/Assessment/2020/data/JobPostings.csv) data and sub-set out of the job description from it."
      ]
    },
    {
      "cell_type": "code",
      "metadata": {
        "colab_type": "code",
        "id": "zH8XAQ0xYGSc",
        "outputId": "9a2e29c6-9f84-434e-ab21-e004ff77a61f",
        "colab": {
          "base_uri": "https://localhost:8080/",
          "height": 69
        }
      },
      "source": [
        "import re\n",
        "import nltk\n",
        "from nltk.tokenize import RegexpTokenizer\n",
        "from nltk.probability import *\n",
        "from itertools import chain\n",
        "#from tqdm import tqdm\n",
        "import codecs\n",
        "from nltk.corpus import stopwords \n",
        "nltk.download('stopwords')"
      ],
      "execution_count": 0,
      "outputs": [
        {
          "output_type": "stream",
          "text": [
            "[nltk_data] Downloading package stopwords to /root/nltk_data...\n",
            "[nltk_data]   Unzipping corpora/stopwords.zip.\n"
          ],
          "name": "stdout"
        },
        {
          "output_type": "execute_result",
          "data": {
            "text/plain": [
              "True"
            ]
          },
          "metadata": {
            "tags": []
          },
          "execution_count": 32
        }
      ]
    },
    {
      "cell_type": "code",
      "metadata": {
        "colab_type": "code",
        "id": "p_BSc5WkYcf4",
        "colab": {}
      },
      "source": [
        "df_text = pd.read_csv('JobPostings.csv')"
      ],
      "execution_count": 0,
      "outputs": []
    },
    {
      "cell_type": "markdown",
      "metadata": {
        "colab_type": "text",
        "id": "xm1vdjSKJykj"
      },
      "source": [
        "<div class=\"alert alert-block alert-info\">\n",
        "\n",
        "**Code**: \n",
        "You are required to extract the token and append them into the list 'token'.\n",
        "\n",
        "<div class=\"alert alert-block alert-warning\">\n",
        "    \n",
        "**Report**: \n",
        "    **2.1.A** In your report's section '2.1.A', including your code of this task. You can copy and paster your completed code in the following cell\n",
        "</div>\n",
        "</div>\n"
      ]
    },
    {
      "cell_type": "code",
      "metadata": {
        "colab_type": "code",
        "id": "Rz03Rd-GYYMw",
        "colab": {}
      },
      "source": [
        "lower = []\n",
        "for item in df_text['job_description']:\n",
        "    lower.append(item.lower())           # lowercase description\n",
        "\n",
        "tokens = []\n",
        "\n",
        "# Your code: write your code here to define your tokenize, and add to tokens \n",
        "def tokenize(lower):\n",
        "    \"\"\"\n",
        "    The function to tokenize the job description strings.\n",
        "    Parameters : list of strings\n",
        "    return : list of tokens\n",
        "    \"\"\"\n",
        "    tokens = []\n",
        "    tokenizer = RegexpTokenizer(r'\\W+', gaps=True)\n",
        "\n",
        "    for desc in lower:\n",
        "        tokens.append(tokenizer.tokenize(desc))\n",
        "\n",
        "    tokens = [b for a in tokens for b in a]\n",
        "    return tokens\n",
        "\n",
        "tokens = tokenize(lower)"
      ],
      "execution_count": 0,
      "outputs": []
    },
    {
      "cell_type": "code",
      "metadata": {
        "id": "AxyA2Xahar4R",
        "colab_type": "code",
        "outputId": "11e218e9-4ebe-4fc1-bca3-2141b4a0f3a6",
        "colab": {
          "base_uri": "https://localhost:8080/",
          "height": 34
        }
      },
      "source": [
        "len(tokens)"
      ],
      "execution_count": 0,
      "outputs": [
        {
          "output_type": "execute_result",
          "data": {
            "text/plain": [
              "5782346"
            ]
          },
          "metadata": {
            "tags": []
          },
          "execution_count": 35
        }
      ]
    },
    {
      "cell_type": "markdown",
      "metadata": {
        "colab_type": "text",
        "id": "VD4z8w8xOKDJ"
      },
      "source": [
        "Secondly, \n",
        "\n",
        "<div class=\"alert alert-block alert-info\">\n",
        "\n",
        "**Code**: \n",
        "You are required to find out the words freqency which is more than 6000 in the job descriptions. (Please use stopwords at beginning)\n",
        "\n",
        "\n",
        "<div class=\"alert alert-block alert-warning\">\n",
        "    \n",
        "**Report**: \n",
        "    **2.1.B** In your report's section '2.1.B', list those words with frequency > 6000.\n",
        "</div>\n",
        "</div>\n",
        "\n",
        "\n"
      ]
    },
    {
      "cell_type": "code",
      "metadata": {
        "colab_type": "code",
        "id": "c-Pag_N7Zew-",
        "colab": {}
      },
      "source": [
        "stop_words = set(stopwords.words('english')) \n",
        "tokens = [word for word in tokens if word not in stop_words]\n",
        "freq6000 = []\n",
        "\n",
        "# Your Code\n",
        "# find top common words with document frequencies > 6000\n",
        "# you may use function FreqDist() and sort()\n",
        "fdist = FreqDist(token for token in tokens)\n",
        "for word,count in fdist.items():\n",
        "    if count > 6000:\n",
        "        freq6000.append((word,count))\n"
      ],
      "execution_count": 0,
      "outputs": []
    },
    {
      "cell_type": "code",
      "metadata": {
        "colab_type": "code",
        "id": "S7JzfU6AaSQi",
        "outputId": "9d860eb5-1416-48de-e751-aa4dd3594524",
        "colab": {
          "base_uri": "https://localhost:8080/",
          "height": 1000
        }
      },
      "source": [
        "freq6000"
      ],
      "execution_count": 0,
      "outputs": [
        {
          "output_type": "execute_result",
          "data": {
            "text/plain": [
              "[('people', 7685),\n",
              " ('working', 13434),\n",
              " ('team', 21157),\n",
              " ('skills', 19823),\n",
              " ('job', 12486),\n",
              " ('apply', 6203),\n",
              " ('knowledge', 13270),\n",
              " ('opportunities', 6066),\n",
              " ('world', 8174),\n",
              " ('data', 128089),\n",
              " ('scientist', 16425),\n",
              " ('science', 27064),\n",
              " ('provide', 7169),\n",
              " ('statistical', 14695),\n",
              " ('analysis', 20672),\n",
              " ('modeling', 11061),\n",
              " ('services', 7881),\n",
              " ('business', 33925),\n",
              " ('work', 28383),\n",
              " ('solutions', 15128),\n",
              " ('design', 8784),\n",
              " ('models', 16563),\n",
              " ('results', 6519),\n",
              " ('teams', 7887),\n",
              " ('etc', 8308),\n",
              " ('using', 12635),\n",
              " ('quantitative', 6499),\n",
              " ('build', 8226),\n",
              " ('tools', 12777),\n",
              " ('advanced', 10679),\n",
              " ('including', 10845),\n",
              " ('techniques', 11555),\n",
              " ('predictive', 8210),\n",
              " ('environment', 8553),\n",
              " ('requirements', 8059),\n",
              " ('degree', 11382),\n",
              " ('field', 7464),\n",
              " ('preferred', 8017),\n",
              " ('experience', 59201),\n",
              " ('analytics', 21993),\n",
              " ('role', 7300),\n",
              " ('one', 6184),\n",
              " ('required', 11028),\n",
              " ('r', 9404),\n",
              " ('python', 11988),\n",
              " ('sql', 8335),\n",
              " ('machine', 20770),\n",
              " ('learning', 27304),\n",
              " ('methods', 7112),\n",
              " ('management', 10043),\n",
              " ('opportunity', 9525),\n",
              " ('time', 8606),\n",
              " ('strong', 11317),\n",
              " ('software', 8441),\n",
              " ('years', 16246),\n",
              " ('algorithms', 9070),\n",
              " ('e', 7760),\n",
              " ('big', 6741),\n",
              " ('ability', 15687),\n",
              " ('technical', 12245),\n",
              " ('must', 6231),\n",
              " ('related', 10070),\n",
              " ('programming', 6656),\n",
              " ('level', 6410),\n",
              " ('large', 8463),\n",
              " ('systems', 8499),\n",
              " ('technology', 8594),\n",
              " ('us', 7199),\n",
              " ('information', 11890),\n",
              " ('company', 9508),\n",
              " ('develop', 11555),\n",
              " ('insights', 8912),\n",
              " ('development', 12774),\n",
              " ('across', 7196),\n",
              " ('complex', 8941),\n",
              " ('problems', 9196),\n",
              " ('responsibilities', 6998),\n",
              " ('use', 7660),\n",
              " ('customer', 7388),\n",
              " ('analytical', 8930),\n",
              " ('products', 6906),\n",
              " ('computer', 9748),\n",
              " ('statistics', 10361),\n",
              " ('engineering', 10177),\n",
              " ('status', 8369),\n",
              " ('employment', 6918),\n",
              " ('help', 7720),\n",
              " ('product', 8202),\n",
              " ('position', 9364),\n",
              " ('new', 12786),\n",
              " ('research', 12301),\n",
              " ('support', 9431),\n",
              " ('understanding', 6739),\n",
              " ('based', 6904),\n",
              " ('qualifications', 8275),\n",
              " ('projects', 7767)]"
            ]
          },
          "metadata": {
            "tags": []
          },
          "execution_count": 37
        }
      ]
    },
    {
      "cell_type": "markdown",
      "metadata": {
        "colab_type": "text",
        "id": "EK9-BCbDJyky"
      },
      "source": [
        "Then,\n",
        "\n",
        "<div class=\"alert alert-block alert-info\">\n",
        "\n",
        "**Code**: \n",
        "You are required to sort and display the top 10 high frequency words in 'freq6000'\n",
        "\n",
        "<div class=\"alert alert-block alert-warning\">\n",
        "    \n",
        "**Report**: \n",
        "    **2.1.C** In your report's section '2.1.C', list those top 10 words\n",
        "</div>\n",
        "</div>\n",
        "\n",
        "\n",
        "\n",
        "\n"
      ]
    },
    {
      "cell_type": "code",
      "metadata": {
        "colab_type": "code",
        "id": "doWvhqRmJykz",
        "outputId": "f9117a19-654a-4c3a-9eeb-8920f248d9ab",
        "colab": {
          "base_uri": "https://localhost:8080/",
          "height": 363
        }
      },
      "source": [
        "# Your Code to sort and display the top 10 high fequency words in 'freq6000'\n",
        "df_words = pd.DataFrame(freq6000, columns=['word', 'count'])\n",
        "df_words = df_words.sort_values('count', ascending=False)\n",
        "df_words.head(10)"
      ],
      "execution_count": 0,
      "outputs": [
        {
          "output_type": "execute_result",
          "data": {
            "text/html": [
              "<div>\n",
              "<style scoped>\n",
              "    .dataframe tbody tr th:only-of-type {\n",
              "        vertical-align: middle;\n",
              "    }\n",
              "\n",
              "    .dataframe tbody tr th {\n",
              "        vertical-align: top;\n",
              "    }\n",
              "\n",
              "    .dataframe thead th {\n",
              "        text-align: right;\n",
              "    }\n",
              "</style>\n",
              "<table border=\"1\" class=\"dataframe\">\n",
              "  <thead>\n",
              "    <tr style=\"text-align: right;\">\n",
              "      <th></th>\n",
              "      <th>word</th>\n",
              "      <th>count</th>\n",
              "    </tr>\n",
              "  </thead>\n",
              "  <tbody>\n",
              "    <tr>\n",
              "      <th>9</th>\n",
              "      <td>data</td>\n",
              "      <td>128089</td>\n",
              "    </tr>\n",
              "    <tr>\n",
              "      <th>38</th>\n",
              "      <td>experience</td>\n",
              "      <td>59201</td>\n",
              "    </tr>\n",
              "    <tr>\n",
              "      <th>17</th>\n",
              "      <td>business</td>\n",
              "      <td>33925</td>\n",
              "    </tr>\n",
              "    <tr>\n",
              "      <th>18</th>\n",
              "      <td>work</td>\n",
              "      <td>28383</td>\n",
              "    </tr>\n",
              "    <tr>\n",
              "      <th>47</th>\n",
              "      <td>learning</td>\n",
              "      <td>27304</td>\n",
              "    </tr>\n",
              "    <tr>\n",
              "      <th>11</th>\n",
              "      <td>science</td>\n",
              "      <td>27064</td>\n",
              "    </tr>\n",
              "    <tr>\n",
              "      <th>39</th>\n",
              "      <td>analytics</td>\n",
              "      <td>21993</td>\n",
              "    </tr>\n",
              "    <tr>\n",
              "      <th>2</th>\n",
              "      <td>team</td>\n",
              "      <td>21157</td>\n",
              "    </tr>\n",
              "    <tr>\n",
              "      <th>46</th>\n",
              "      <td>machine</td>\n",
              "      <td>20770</td>\n",
              "    </tr>\n",
              "    <tr>\n",
              "      <th>14</th>\n",
              "      <td>analysis</td>\n",
              "      <td>20672</td>\n",
              "    </tr>\n",
              "  </tbody>\n",
              "</table>\n",
              "</div>"
            ],
            "text/plain": [
              "          word   count\n",
              "9         data  128089\n",
              "38  experience   59201\n",
              "17    business   33925\n",
              "18        work   28383\n",
              "47    learning   27304\n",
              "11     science   27064\n",
              "39   analytics   21993\n",
              "2         team   21157\n",
              "46     machine   20770\n",
              "14    analysis   20672"
            ]
          },
          "metadata": {
            "tags": []
          },
          "execution_count": 38
        }
      ]
    },
    {
      "cell_type": "markdown",
      "metadata": {
        "id": "s8m9d8jIu2RX",
        "colab_type": "text"
      },
      "source": [
        "Finally,\n",
        "\n",
        "<div class=\"alert alert-block alert-info\">\n",
        "\n",
        "**Code**: \n",
        "You are required to carry out one more analytics on this data set, and implement it below.\n",
        "\n",
        "<div class=\"alert alert-block alert-warning\">\n",
        "    \n",
        "**Report**: \n",
        "    **2.1.D** In your report's section '2.1.D', describe your self-defined text analysis task, and the discovery from your analysis.\n",
        "</div>\n",
        "</div>\n",
        "\n",
        "\n",
        "\n",
        "\n",
        "\n"
      ]
    },
    {
      "cell_type": "code",
      "metadata": {
        "id": "aEJAit2mbWqq",
        "colab_type": "code",
        "outputId": "544372d8-f377-46f2-a95d-10dac6086a8f",
        "colab": {
          "base_uri": "https://localhost:8080/",
          "height": 452
        }
      },
      "source": [
        "df_text.head()"
      ],
      "execution_count": 0,
      "outputs": [
        {
          "output_type": "execute_result",
          "data": {
            "text/html": [
              "<div>\n",
              "<style scoped>\n",
              "    .dataframe tbody tr th:only-of-type {\n",
              "        vertical-align: middle;\n",
              "    }\n",
              "\n",
              "    .dataframe tbody tr th {\n",
              "        vertical-align: top;\n",
              "    }\n",
              "\n",
              "    .dataframe thead th {\n",
              "        text-align: right;\n",
              "    }\n",
              "</style>\n",
              "<table border=\"1\" class=\"dataframe\">\n",
              "  <thead>\n",
              "    <tr style=\"text-align: right;\">\n",
              "      <th></th>\n",
              "      <th>crawl_timestamp</th>\n",
              "      <th>url</th>\n",
              "      <th>job_title</th>\n",
              "      <th>category</th>\n",
              "      <th>company_name</th>\n",
              "      <th>city</th>\n",
              "      <th>state</th>\n",
              "      <th>country</th>\n",
              "      <th>inferred_city</th>\n",
              "      <th>inferred_state</th>\n",
              "      <th>inferred_country</th>\n",
              "      <th>post_date</th>\n",
              "      <th>job_description</th>\n",
              "      <th>job_type</th>\n",
              "      <th>salary_offered</th>\n",
              "      <th>job_board</th>\n",
              "      <th>geo</th>\n",
              "      <th>cursor</th>\n",
              "      <th>contact_email</th>\n",
              "      <th>contact_phone_number</th>\n",
              "      <th>uniq_id</th>\n",
              "      <th>html_job_description</th>\n",
              "    </tr>\n",
              "  </thead>\n",
              "  <tbody>\n",
              "    <tr>\n",
              "      <th>0</th>\n",
              "      <td>2019-02-06 05:26:22 +0000</td>\n",
              "      <td>https://www.indeed.com/viewjob?jk=fd83355c2b23...</td>\n",
              "      <td>Enterprise Data Scientist I</td>\n",
              "      <td>Accounting/Finance</td>\n",
              "      <td>Farmers Insurance Group</td>\n",
              "      <td>Woodland Hills</td>\n",
              "      <td>CA</td>\n",
              "      <td>Usa</td>\n",
              "      <td>Woodland hills</td>\n",
              "      <td>California</td>\n",
              "      <td>Usa</td>\n",
              "      <td>2019-02-06</td>\n",
              "      <td>Read what people are saying about working here...</td>\n",
              "      <td>Undefined</td>\n",
              "      <td>NaN</td>\n",
              "      <td>indeed</td>\n",
              "      <td>usa</td>\n",
              "      <td>1549432819114777</td>\n",
              "      <td>NaN</td>\n",
              "      <td>NaN</td>\n",
              "      <td>3b6c6acfcba6135a31c83bd7ea493b18</td>\n",
              "      <td>NaN</td>\n",
              "    </tr>\n",
              "    <tr>\n",
              "      <th>1</th>\n",
              "      <td>2019-02-06 05:33:41 +0000</td>\n",
              "      <td>https://www.dice.com/jobs/detail/Data-Scientis...</td>\n",
              "      <td>Data Scientist</td>\n",
              "      <td>NaN</td>\n",
              "      <td>Luxoft USA Inc</td>\n",
              "      <td>Middletown</td>\n",
              "      <td>NJ</td>\n",
              "      <td>Usa</td>\n",
              "      <td>Middletown</td>\n",
              "      <td>New jersey</td>\n",
              "      <td>Usa</td>\n",
              "      <td>2019-02-05</td>\n",
              "      <td>We have an immediate opening for a Sharp Data ...</td>\n",
              "      <td>Undefined</td>\n",
              "      <td>NaN</td>\n",
              "      <td>dice</td>\n",
              "      <td>usa</td>\n",
              "      <td>1549432819122106</td>\n",
              "      <td>NaN</td>\n",
              "      <td>NaN</td>\n",
              "      <td>741727428839ae7ada852eebef29b0fe</td>\n",
              "      <td>NaN</td>\n",
              "    </tr>\n",
              "    <tr>\n",
              "      <th>2</th>\n",
              "      <td>2019-02-06 05:33:35 +0000</td>\n",
              "      <td>https://www.dice.com/jobs/detail/Data-Scientis...</td>\n",
              "      <td>Data Scientist</td>\n",
              "      <td>NaN</td>\n",
              "      <td>Cincinnati Bell Technology Solutions</td>\n",
              "      <td>New York</td>\n",
              "      <td>NY</td>\n",
              "      <td>Usa</td>\n",
              "      <td>New york</td>\n",
              "      <td>New york</td>\n",
              "      <td>Usa</td>\n",
              "      <td>2019-02-05</td>\n",
              "      <td>Candidates should have the following backgroun...</td>\n",
              "      <td>Full Time</td>\n",
              "      <td>NaN</td>\n",
              "      <td>dice</td>\n",
              "      <td>usa</td>\n",
              "      <td>1549432819236156</td>\n",
              "      <td>NaN</td>\n",
              "      <td>NaN</td>\n",
              "      <td>cdc9ef9a1de327ccdc19cc0d07dbbb37</td>\n",
              "      <td>NaN</td>\n",
              "    </tr>\n",
              "    <tr>\n",
              "      <th>3</th>\n",
              "      <td>2019-02-06 05:33:42 +0000</td>\n",
              "      <td>https://www.indeed.com/viewjob?jk=841edd86ead2...</td>\n",
              "      <td>Data Scientist, Aladdin Wealth Tech, Associate...</td>\n",
              "      <td>Accounting/Finance</td>\n",
              "      <td>BlackRock</td>\n",
              "      <td>New York</td>\n",
              "      <td>NY 10055 (Midtown area)</td>\n",
              "      <td>Usa</td>\n",
              "      <td>New york</td>\n",
              "      <td>New york</td>\n",
              "      <td>Usa</td>\n",
              "      <td>2019-02-06</td>\n",
              "      <td>Read what people are saying about working here...</td>\n",
              "      <td>Undefined</td>\n",
              "      <td>NaN</td>\n",
              "      <td>indeed</td>\n",
              "      <td>usa</td>\n",
              "      <td>1549432819259473</td>\n",
              "      <td>NaN</td>\n",
              "      <td>NaN</td>\n",
              "      <td>1c8541cd2c2c924f9391c7d3f526f64e</td>\n",
              "      <td>NaN</td>\n",
              "    </tr>\n",
              "    <tr>\n",
              "      <th>4</th>\n",
              "      <td>2019-02-06 05:48:23 +0000</td>\n",
              "      <td>https://job-openings.monster.com/senior-data-s...</td>\n",
              "      <td>Senior Data Scientist</td>\n",
              "      <td>biotech</td>\n",
              "      <td>CyberCoders</td>\n",
              "      <td>Charlotte</td>\n",
              "      <td>NC</td>\n",
              "      <td>Usa</td>\n",
              "      <td>Charlotte</td>\n",
              "      <td>North carolina</td>\n",
              "      <td>Usa</td>\n",
              "      <td>2019-02-05</td>\n",
              "      <td>We are seeking an extraordinary Data Scientist...</td>\n",
              "      <td>Full Time</td>\n",
              "      <td>NaN</td>\n",
              "      <td>monster</td>\n",
              "      <td>usa</td>\n",
              "      <td>1549436429015957</td>\n",
              "      <td>NaN</td>\n",
              "      <td>NaN</td>\n",
              "      <td>445652a560a5441060857853cf267470</td>\n",
              "      <td>NaN</td>\n",
              "    </tr>\n",
              "  </tbody>\n",
              "</table>\n",
              "</div>"
            ],
            "text/plain": [
              "             crawl_timestamp  ... html_job_description\n",
              "0  2019-02-06 05:26:22 +0000  ...                  NaN\n",
              "1  2019-02-06 05:33:41 +0000  ...                  NaN\n",
              "2  2019-02-06 05:33:35 +0000  ...                  NaN\n",
              "3  2019-02-06 05:33:42 +0000  ...                  NaN\n",
              "4  2019-02-06 05:48:23 +0000  ...                  NaN\n",
              "\n",
              "[5 rows x 22 columns]"
            ]
          },
          "metadata": {
            "tags": []
          },
          "execution_count": 39
        }
      ]
    },
    {
      "cell_type": "code",
      "metadata": {
        "id": "H6e8XGRRu2RX",
        "colab_type": "code",
        "outputId": "4f97e474-967e-4d97-8797-5584e85b8d82",
        "colab": {
          "base_uri": "https://localhost:8080/",
          "height": 269
        }
      },
      "source": [
        "# Your Code below\n",
        "\n",
        "df = df_text.groupby('job_board')[['job_board']].count()\n",
        "df.columns = ['count']\n",
        "df = df.reset_index()\n",
        "df = df.sort_values('count', ascending=False)\n",
        "df['percentage'] = df['count']*100 / df['count'].sum()\n",
        "df.head(10)"
      ],
      "execution_count": 0,
      "outputs": [
        {
          "output_type": "execute_result",
          "data": {
            "text/html": [
              "<div>\n",
              "<style scoped>\n",
              "    .dataframe tbody tr th:only-of-type {\n",
              "        vertical-align: middle;\n",
              "    }\n",
              "\n",
              "    .dataframe tbody tr th {\n",
              "        vertical-align: top;\n",
              "    }\n",
              "\n",
              "    .dataframe thead th {\n",
              "        text-align: right;\n",
              "    }\n",
              "</style>\n",
              "<table border=\"1\" class=\"dataframe\">\n",
              "  <thead>\n",
              "    <tr style=\"text-align: right;\">\n",
              "      <th></th>\n",
              "      <th>job_board</th>\n",
              "      <th>count</th>\n",
              "      <th>percentage</th>\n",
              "    </tr>\n",
              "  </thead>\n",
              "  <tbody>\n",
              "    <tr>\n",
              "      <th>3</th>\n",
              "      <td>indeed</td>\n",
              "      <td>4955</td>\n",
              "      <td>53.222342</td>\n",
              "    </tr>\n",
              "    <tr>\n",
              "      <th>1</th>\n",
              "      <td>careerbuilder</td>\n",
              "      <td>2033</td>\n",
              "      <td>21.836735</td>\n",
              "    </tr>\n",
              "    <tr>\n",
              "      <th>4</th>\n",
              "      <td>monster</td>\n",
              "      <td>1866</td>\n",
              "      <td>20.042965</td>\n",
              "    </tr>\n",
              "    <tr>\n",
              "      <th>2</th>\n",
              "      <td>dice</td>\n",
              "      <td>445</td>\n",
              "      <td>4.779807</td>\n",
              "    </tr>\n",
              "    <tr>\n",
              "      <th>0</th>\n",
              "      <td>Stackoverflow</td>\n",
              "      <td>7</td>\n",
              "      <td>0.075188</td>\n",
              "    </tr>\n",
              "    <tr>\n",
              "      <th>5</th>\n",
              "      <td>simplyhired</td>\n",
              "      <td>2</td>\n",
              "      <td>0.021482</td>\n",
              "    </tr>\n",
              "    <tr>\n",
              "      <th>6</th>\n",
              "      <td>totaljob</td>\n",
              "      <td>2</td>\n",
              "      <td>0.021482</td>\n",
              "    </tr>\n",
              "  </tbody>\n",
              "</table>\n",
              "</div>"
            ],
            "text/plain": [
              "       job_board  count  percentage\n",
              "3         indeed   4955   53.222342\n",
              "1  careerbuilder   2033   21.836735\n",
              "4        monster   1866   20.042965\n",
              "2           dice    445    4.779807\n",
              "0  Stackoverflow      7    0.075188\n",
              "5    simplyhired      2    0.021482\n",
              "6       totaljob      2    0.021482"
            ]
          },
          "metadata": {
            "tags": []
          },
          "execution_count": 40
        }
      ]
    },
    {
      "cell_type": "code",
      "metadata": {
        "id": "LyOG5ukrCwE3",
        "colab_type": "code",
        "outputId": "5f745757-e093-4e27-a5f7-fe6ab2c72683",
        "colab": {
          "base_uri": "https://localhost:8080/",
          "height": 370
        }
      },
      "source": [
        "df.plot.bar(x='job_board', y='percentage')"
      ],
      "execution_count": 0,
      "outputs": [
        {
          "output_type": "execute_result",
          "data": {
            "text/plain": [
              "<matplotlib.axes._subplots.AxesSubplot at 0x7f26a96c3f98>"
            ]
          },
          "metadata": {
            "tags": []
          },
          "execution_count": 41
        },
        {
          "output_type": "display_data",
          "data": {
            "image/png": "[encoded data removed]",
            "text/plain": [
              "<Figure size 432x288 with 1 Axes>"
            ]
          },
          "metadata": {
            "tags": []
          }
        }
      ]
    }
  ]
}